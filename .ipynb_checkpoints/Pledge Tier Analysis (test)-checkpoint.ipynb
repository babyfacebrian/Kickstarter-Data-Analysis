{
 "cells": [
  {
   "cell_type": "code",
   "execution_count": 2,
   "metadata": {
    "collapsed": true
   },
   "outputs": [],
   "source": [
    "import numpy as np \n",
    "import pandas as pd\n",
    "import matplotlib.pyplot as plt"
   ]
  },
  {
   "cell_type": "code",
   "execution_count": 7,
   "metadata": {
    "collapsed": false
   },
   "outputs": [
    {
     "data": {
      "text/html": [
       "<div>\n",
       "<table border=\"1\" class=\"dataframe\">\n",
       "  <thead>\n",
       "    <tr style=\"text-align: right;\">\n",
       "      <th></th>\n",
       "      <th>amt.pledged</th>\n",
       "      <th>blurb</th>\n",
       "      <th>by</th>\n",
       "      <th>category</th>\n",
       "      <th>currency</th>\n",
       "      <th>goal</th>\n",
       "      <th>location</th>\n",
       "      <th>num.backers</th>\n",
       "      <th>num.backers.tier</th>\n",
       "      <th>pledge.tier</th>\n",
       "      <th>title</th>\n",
       "      <th>url</th>\n",
       "    </tr>\n",
       "  </thead>\n",
       "  <tbody>\n",
       "    <tr>\n",
       "      <th>0</th>\n",
       "      <td>8782571.0</td>\n",
       "      <td>\\nThis is a card game for people who are into ...</td>\n",
       "      <td>Elan Lee</td>\n",
       "      <td>Tabletop Games</td>\n",
       "      <td>usd</td>\n",
       "      <td>10000.0</td>\n",
       "      <td>Los Angeles, CA</td>\n",
       "      <td>219382</td>\n",
       "      <td>[15505, 202934, 200, 5]</td>\n",
       "      <td>[20.0, 35.0, 100.0, 500.0]</td>\n",
       "      <td>Exploding Kittens</td>\n",
       "      <td>/projects/elanlee/exploding-kittens</td>\n",
       "    </tr>\n",
       "    <tr>\n",
       "      <th>1</th>\n",
       "      <td>6465690.0</td>\n",
       "      <td>\\nAn unusually addicting, high-quality desk to...</td>\n",
       "      <td>Matthew and Mark McLachlan</td>\n",
       "      <td>Product Design</td>\n",
       "      <td>usd</td>\n",
       "      <td>15000.0</td>\n",
       "      <td>Denver, CO</td>\n",
       "      <td>154926</td>\n",
       "      <td>[788, 250, 43073, 21796, 41727, 21627, 12215, ...</td>\n",
       "      <td>[1.0, 14.0, 19.0, 19.0, 35.0, 35.0, 79.0, 79.0...</td>\n",
       "      <td>Fidget Cube: A Vinyl Desk Toy</td>\n",
       "      <td>/projects/antsylabs/fidget-cube-a-vinyl-desk-toy</td>\n",
       "    </tr>\n",
       "    <tr>\n",
       "      <th>2</th>\n",
       "      <td>5408916.0</td>\n",
       "      <td>\\nBring Reading Rainbow’s library of interacti...</td>\n",
       "      <td>LeVar Burton &amp; Reading Rainbow</td>\n",
       "      <td>Web</td>\n",
       "      <td>usd</td>\n",
       "      <td>1000000.0</td>\n",
       "      <td>Los Angeles, CA</td>\n",
       "      <td>105857</td>\n",
       "      <td>[19639, 14343, 9136, 2259, 5666, 24512, 4957, ...</td>\n",
       "      <td>[5.0, 10.0, 25.0, 30.0, 35.0, 50.0, 75.0, 100....</td>\n",
       "      <td>Bring Reading Rainbow Back for Every Child, Ev...</td>\n",
       "      <td>/projects/readingrainbow/bring-reading-rainbow...</td>\n",
       "    </tr>\n",
       "    <tr>\n",
       "      <th>3</th>\n",
       "      <td>5702153.0</td>\n",
       "      <td>\\nUPDATED: This is it. We're making a Veronica...</td>\n",
       "      <td>Rob Thomas</td>\n",
       "      <td>Narrative Film</td>\n",
       "      <td>usd</td>\n",
       "      <td>2000000.0</td>\n",
       "      <td>San Diego, CA</td>\n",
       "      <td>91585</td>\n",
       "      <td>[5938, 8423, 11509, 22997, 23227, 1865, 7260, ...</td>\n",
       "      <td>[1.0, 10.0, 25.0, 35.0, 50.0, 75.0, 100.0, 150...</td>\n",
       "      <td>The Veronica Mars Movie Project</td>\n",
       "      <td>/projects/559914737/the-veronica-mars-movie-pr...</td>\n",
       "    </tr>\n",
       "    <tr>\n",
       "      <th>4</th>\n",
       "      <td>3336371.0</td>\n",
       "      <td>\\nAn adventure game from Tim Schafer, Double F...</td>\n",
       "      <td>Double Fine and 2 Player Productions</td>\n",
       "      <td>Video Games</td>\n",
       "      <td>usd</td>\n",
       "      <td>400000.0</td>\n",
       "      <td>San Francisco, CA</td>\n",
       "      <td>87142</td>\n",
       "      <td>[47946, 24636, 1090, 11530, 900, 148, 100, 10, 4]</td>\n",
       "      <td>[15.0, 30.0, 60.0, 100.0, 250.0, 500.0, 1000.0...</td>\n",
       "      <td>Double Fine Adventure</td>\n",
       "      <td>/projects/doublefine/double-fine-adventure</td>\n",
       "    </tr>\n",
       "  </tbody>\n",
       "</table>\n",
       "</div>"
      ],
      "text/plain": [
       "   amt.pledged                                              blurb  \\\n",
       "0    8782571.0  \\nThis is a card game for people who are into ...   \n",
       "1    6465690.0  \\nAn unusually addicting, high-quality desk to...   \n",
       "2    5408916.0  \\nBring Reading Rainbow’s library of interacti...   \n",
       "3    5702153.0  \\nUPDATED: This is it. We're making a Veronica...   \n",
       "4    3336371.0  \\nAn adventure game from Tim Schafer, Double F...   \n",
       "\n",
       "                                     by        category currency       goal  \\\n",
       "0                              Elan Lee  Tabletop Games      usd    10000.0   \n",
       "1            Matthew and Mark McLachlan  Product Design      usd    15000.0   \n",
       "2        LeVar Burton & Reading Rainbow             Web      usd  1000000.0   \n",
       "3                            Rob Thomas  Narrative Film      usd  2000000.0   \n",
       "4  Double Fine and 2 Player Productions     Video Games      usd   400000.0   \n",
       "\n",
       "            location  num.backers  \\\n",
       "0    Los Angeles, CA       219382   \n",
       "1         Denver, CO       154926   \n",
       "2    Los Angeles, CA       105857   \n",
       "3      San Diego, CA        91585   \n",
       "4  San Francisco, CA        87142   \n",
       "\n",
       "                                    num.backers.tier  \\\n",
       "0                            [15505, 202934, 200, 5]   \n",
       "1  [788, 250, 43073, 21796, 41727, 21627, 12215, ...   \n",
       "2  [19639, 14343, 9136, 2259, 5666, 24512, 4957, ...   \n",
       "3  [5938, 8423, 11509, 22997, 23227, 1865, 7260, ...   \n",
       "4  [47946, 24636, 1090, 11530, 900, 148, 100, 10, 4]   \n",
       "\n",
       "                                         pledge.tier  \\\n",
       "0                         [20.0, 35.0, 100.0, 500.0]   \n",
       "1  [1.0, 14.0, 19.0, 19.0, 35.0, 35.0, 79.0, 79.0...   \n",
       "2  [5.0, 10.0, 25.0, 30.0, 35.0, 50.0, 75.0, 100....   \n",
       "3  [1.0, 10.0, 25.0, 35.0, 50.0, 75.0, 100.0, 150...   \n",
       "4  [15.0, 30.0, 60.0, 100.0, 250.0, 500.0, 1000.0...   \n",
       "\n",
       "                                               title  \\\n",
       "0                                  Exploding Kittens   \n",
       "1                      Fidget Cube: A Vinyl Desk Toy   \n",
       "2  Bring Reading Rainbow Back for Every Child, Ev...   \n",
       "3                    The Veronica Mars Movie Project   \n",
       "4                              Double Fine Adventure   \n",
       "\n",
       "                                                 url  \n",
       "0                /projects/elanlee/exploding-kittens  \n",
       "1   /projects/antsylabs/fidget-cube-a-vinyl-desk-toy  \n",
       "2  /projects/readingrainbow/bring-reading-rainbow...  \n",
       "3  /projects/559914737/the-veronica-mars-movie-pr...  \n",
       "4         /projects/doublefine/double-fine-adventure  "
      ]
     },
     "execution_count": 7,
     "metadata": {},
     "output_type": "execute_result"
    }
   ],
   "source": [
    "kick_data = pd.read_csv(\"/Users/briankalinowski/Kickstarter-Data-Analysis/most_backed.csv\")\n",
    "\n",
    "del kick_data['Unnamed: 0']\n",
    "\n",
    "kick_data.head()"
   ]
  },
  {
   "cell_type": "code",
   "execution_count": 10,
   "metadata": {
    "collapsed": false
   },
   "outputs": [],
   "source": [
    "#Create a column for the number of tiers for each project. \n",
    "\n",
    "kick_usd = kick_data.loc[kick_data['currency'] == 'usd']\n",
    "kick_tiers = [len(row.split()) for row in kick_usd['pledge.tier']]\n",
    "kick_data['num_tiers'] = pd.Series(kick_tiers, index = kick_usd.index)"
   ]
  },
  {
   "cell_type": "code",
   "execution_count": 11,
   "metadata": {
    "collapsed": false
   },
   "outputs": [],
   "source": [
    "## Create an array for each number of tiers available, and fill it with amounts pledged at that number\n",
    "## Would love if someone could tell me a better way to do this\n",
    "pledged_by_tier = []\n",
    "percent_by_tier = []\n",
    "for i in range(1,101):\n",
    "    pledged_by_tier.append([])\n",
    "    percent_by_tier.append([])\n",
    "    for index, row in kick_usd.iterrows():\n",
    "        if row['num_tiers'] == i:\n",
    "            pledged_by_tier[i-1].append(row['amt.pledged'])\n",
    "            percent_by_tier[i-1].append(row['amt.pledged']/row['goal']*100)\n"
   ]
  },
  {
   "cell_type": "code",
   "execution_count": 12,
   "metadata": {
    "collapsed": true
   },
   "outputs": [],
   "source": [
    "avgs = []\n",
    "medians = []\n",
    "num_tiers = []\n",
    "for i in range(100):\n",
    "    if len(pledged_by_tier[i]) > 10:  #Ignore tier numbers for which their is insufficient data\n",
    "        avgs.append(np.average(pledged_by_tier[i]))\n",
    "        medians.append(np.median(pledged_by_tier[i]))\n",
    "        num_tiers.append(i+1)\n"
   ]
  },
  {
   "cell_type": "code",
   "execution_count": 17,
   "metadata": {
    "collapsed": false
   },
   "outputs": [],
   "source": [
    "plt.plot(num_tiers, avgs, marker = 'o', linestyle = 'None', label = 'Average')\n",
    "plt.plot(num_tiers, medians, marker = '^', linestyle = 'None', label = 'Median')\n",
    "plt.legend(loc = 'upper left')\n",
    "plt.xlabel('Number of Pledge Tiers Available')\n",
    "plt.ylabel('Amount Pledged')\n",
    "plt.show()"
   ]
  },
  {
   "cell_type": "code",
   "execution_count": 15,
   "metadata": {
    "collapsed": false
   },
   "outputs": [],
   "source": [
    "#Now check the amount pledged relative to goal\n",
    "avgs = []\n",
    "medians = []\n",
    "num_tiers = []\n",
    "for i in range(100):\n",
    "    if len(percent_by_tier[i]) > 10:\n",
    "        avgs.append(np.average(percent_by_tier[i]))\n",
    "        medians.append(np.median(percent_by_tier[i]))\n",
    "        num_tiers.append(i+1)"
   ]
  },
  {
   "cell_type": "code",
   "execution_count": 16,
   "metadata": {
    "collapsed": false
   },
   "outputs": [
    {
     "name": "stdout",
     "output_type": "stream",
     "text": [
      "None\n"
     ]
    }
   ],
   "source": [
    "plt.plot(num_tiers, avgs, marker = 'o', linestyle = 'None', label = 'Average')\n",
    "plt.plot(num_tiers, medians, marker = '^', linestyle = 'None', label = 'Median')\n",
    "plt.legend(loc = 'upper right')\n",
    "plt.xlabel('Number of Pledge Tiers Available')\n",
    "plt.ylabel('Percent of Goal Pledged')\n",
    "plt.yscale('log')\n",
    "print plt.show()"
   ]
  },
  {
   "cell_type": "code",
   "execution_count": null,
   "metadata": {
    "collapsed": true
   },
   "outputs": [],
   "source": []
  }
 ],
 "metadata": {
  "anaconda-cloud": {},
  "kernelspec": {
   "display_name": "Python [Root]",
   "language": "python",
   "name": "Python [Root]"
  },
  "language_info": {
   "codemirror_mode": {
    "name": "ipython",
    "version": 2
   },
   "file_extension": ".py",
   "mimetype": "text/x-python",
   "name": "python",
   "nbconvert_exporter": "python",
   "pygments_lexer": "ipython2",
   "version": "2.7.12"
  }
 },
 "nbformat": 4,
 "nbformat_minor": 0
}
