{
 "cells": [
  {
   "cell_type": "code",
   "execution_count": 1,
   "metadata": {
    "collapsed": true
   },
   "outputs": [],
   "source": [
    "import pandas as pd \n",
    "import numpy as np\n",
    "from __future__ import unicode_literals\n",
    "import matplotlib.pyplot as plt\n",
    "%matplotlib inline\n",
    "import seaborn as sns"
   ]
  },
  {
   "cell_type": "code",
   "execution_count": 2,
   "metadata": {
    "collapsed": true
   },
   "outputs": [],
   "source": [
    "# Reading in the data\n",
    "kick_data = pd.read_csv(\"/Users/briankalinowski/Kickstarter-Data-Analysis/Kick_funded.csv\",encoding=\"utf-8\")\n",
    "del kick_data['Unnamed: 0']"
   ]
  },
  {
   "cell_type": "code",
   "execution_count": 3,
   "metadata": {
    "collapsed": false,
    "scrolled": true
   },
   "outputs": [
    {
     "data": {
      "text/html": [
       "<div>\n",
       "<table border=\"1\" class=\"dataframe\">\n",
       "  <thead>\n",
       "    <tr style=\"text-align: right;\">\n",
       "      <th></th>\n",
       "      <th>pledged_amount</th>\n",
       "      <th>pitch</th>\n",
       "      <th>by</th>\n",
       "      <th>category</th>\n",
       "      <th>currency</th>\n",
       "      <th>goal</th>\n",
       "      <th>location</th>\n",
       "      <th>backers</th>\n",
       "      <th>backers_by_tier</th>\n",
       "      <th>pledge_tier</th>\n",
       "      <th>title</th>\n",
       "      <th>url</th>\n",
       "    </tr>\n",
       "  </thead>\n",
       "  <tbody>\n",
       "    <tr>\n",
       "      <th>0</th>\n",
       "      <td>8782571.0</td>\n",
       "      <td>\\nThis is a card game for people who are into ...</td>\n",
       "      <td>Elan Lee</td>\n",
       "      <td>Tabletop Games</td>\n",
       "      <td>usd</td>\n",
       "      <td>10000.0</td>\n",
       "      <td>Los Angeles, CA</td>\n",
       "      <td>219382</td>\n",
       "      <td>[15505, 202934, 200, 5]</td>\n",
       "      <td>[20.0, 35.0, 100.0, 500.0]</td>\n",
       "      <td>Exploding Kittens</td>\n",
       "      <td>/projects/elanlee/exploding-kittens</td>\n",
       "    </tr>\n",
       "    <tr>\n",
       "      <th>1</th>\n",
       "      <td>6465690.0</td>\n",
       "      <td>\\nAn unusually addicting, high-quality desk to...</td>\n",
       "      <td>Matthew and Mark McLachlan</td>\n",
       "      <td>Product Design</td>\n",
       "      <td>usd</td>\n",
       "      <td>15000.0</td>\n",
       "      <td>Denver, CO</td>\n",
       "      <td>154926</td>\n",
       "      <td>[788, 250, 43073, 21796, 41727, 21627, 12215, ...</td>\n",
       "      <td>[1.0, 14.0, 19.0, 19.0, 35.0, 35.0, 79.0, 79.0...</td>\n",
       "      <td>Fidget Cube: A Vinyl Desk Toy</td>\n",
       "      <td>/projects/antsylabs/fidget-cube-a-vinyl-desk-toy</td>\n",
       "    </tr>\n",
       "    <tr>\n",
       "      <th>2</th>\n",
       "      <td>5408916.0</td>\n",
       "      <td>\\nBring Reading Rainbow’s library of interacti...</td>\n",
       "      <td>LeVar Burton &amp; Reading Rainbow</td>\n",
       "      <td>Web</td>\n",
       "      <td>usd</td>\n",
       "      <td>1000000.0</td>\n",
       "      <td>Los Angeles, CA</td>\n",
       "      <td>105857</td>\n",
       "      <td>[19639, 14343, 9136, 2259, 5666, 24512, 4957, ...</td>\n",
       "      <td>[5.0, 10.0, 25.0, 30.0, 35.0, 50.0, 75.0, 100....</td>\n",
       "      <td>Bring Reading Rainbow Back for Every Child, Ev...</td>\n",
       "      <td>/projects/readingrainbow/bring-reading-rainbow...</td>\n",
       "    </tr>\n",
       "    <tr>\n",
       "      <th>3</th>\n",
       "      <td>5702153.0</td>\n",
       "      <td>\\nUPDATED: This is it. We're making a Veronica...</td>\n",
       "      <td>Rob Thomas</td>\n",
       "      <td>Narrative Film</td>\n",
       "      <td>usd</td>\n",
       "      <td>2000000.0</td>\n",
       "      <td>San Diego, CA</td>\n",
       "      <td>91585</td>\n",
       "      <td>[5938, 8423, 11509, 22997, 23227, 1865, 7260, ...</td>\n",
       "      <td>[1.0, 10.0, 25.0, 35.0, 50.0, 75.0, 100.0, 150...</td>\n",
       "      <td>The Veronica Mars Movie Project</td>\n",
       "      <td>/projects/559914737/the-veronica-mars-movie-pr...</td>\n",
       "    </tr>\n",
       "    <tr>\n",
       "      <th>4</th>\n",
       "      <td>3336371.0</td>\n",
       "      <td>\\nAn adventure game from Tim Schafer, Double F...</td>\n",
       "      <td>Double Fine and 2 Player Productions</td>\n",
       "      <td>Video Games</td>\n",
       "      <td>usd</td>\n",
       "      <td>400000.0</td>\n",
       "      <td>San Francisco, CA</td>\n",
       "      <td>87142</td>\n",
       "      <td>[47946, 24636, 1090, 11530, 900, 148, 100, 10, 4]</td>\n",
       "      <td>[15.0, 30.0, 60.0, 100.0, 250.0, 500.0, 1000.0...</td>\n",
       "      <td>Double Fine Adventure</td>\n",
       "      <td>/projects/doublefine/double-fine-adventure</td>\n",
       "    </tr>\n",
       "  </tbody>\n",
       "</table>\n",
       "</div>"
      ],
      "text/plain": [
       "   pledged_amount                                              pitch  \\\n",
       "0       8782571.0  \\nThis is a card game for people who are into ...   \n",
       "1       6465690.0  \\nAn unusually addicting, high-quality desk to...   \n",
       "2       5408916.0  \\nBring Reading Rainbow’s library of interacti...   \n",
       "3       5702153.0  \\nUPDATED: This is it. We're making a Veronica...   \n",
       "4       3336371.0  \\nAn adventure game from Tim Schafer, Double F...   \n",
       "\n",
       "                                     by        category currency       goal  \\\n",
       "0                              Elan Lee  Tabletop Games      usd    10000.0   \n",
       "1            Matthew and Mark McLachlan  Product Design      usd    15000.0   \n",
       "2        LeVar Burton & Reading Rainbow             Web      usd  1000000.0   \n",
       "3                            Rob Thomas  Narrative Film      usd  2000000.0   \n",
       "4  Double Fine and 2 Player Productions     Video Games      usd   400000.0   \n",
       "\n",
       "            location  backers  \\\n",
       "0    Los Angeles, CA   219382   \n",
       "1         Denver, CO   154926   \n",
       "2    Los Angeles, CA   105857   \n",
       "3      San Diego, CA    91585   \n",
       "4  San Francisco, CA    87142   \n",
       "\n",
       "                                     backers_by_tier  \\\n",
       "0                            [15505, 202934, 200, 5]   \n",
       "1  [788, 250, 43073, 21796, 41727, 21627, 12215, ...   \n",
       "2  [19639, 14343, 9136, 2259, 5666, 24512, 4957, ...   \n",
       "3  [5938, 8423, 11509, 22997, 23227, 1865, 7260, ...   \n",
       "4  [47946, 24636, 1090, 11530, 900, 148, 100, 10, 4]   \n",
       "\n",
       "                                         pledge_tier  \\\n",
       "0                         [20.0, 35.0, 100.0, 500.0]   \n",
       "1  [1.0, 14.0, 19.0, 19.0, 35.0, 35.0, 79.0, 79.0...   \n",
       "2  [5.0, 10.0, 25.0, 30.0, 35.0, 50.0, 75.0, 100....   \n",
       "3  [1.0, 10.0, 25.0, 35.0, 50.0, 75.0, 100.0, 150...   \n",
       "4  [15.0, 30.0, 60.0, 100.0, 250.0, 500.0, 1000.0...   \n",
       "\n",
       "                                               title  \\\n",
       "0                                  Exploding Kittens   \n",
       "1                      Fidget Cube: A Vinyl Desk Toy   \n",
       "2  Bring Reading Rainbow Back for Every Child, Ev...   \n",
       "3                    The Veronica Mars Movie Project   \n",
       "4                              Double Fine Adventure   \n",
       "\n",
       "                                                 url  \n",
       "0                /projects/elanlee/exploding-kittens  \n",
       "1   /projects/antsylabs/fidget-cube-a-vinyl-desk-toy  \n",
       "2  /projects/readingrainbow/bring-reading-rainbow...  \n",
       "3  /projects/559914737/the-veronica-mars-movie-pr...  \n",
       "4         /projects/doublefine/double-fine-adventure  "
      ]
     },
     "execution_count": 3,
     "metadata": {},
     "output_type": "execute_result"
    }
   ],
   "source": [
    "kick_data.head()"
   ]
  },
  {
   "cell_type": "markdown",
   "metadata": {},
   "source": [
    "# Analysis using SpaCy"
   ]
  },
  {
   "cell_type": "code",
   "execution_count": 4,
   "metadata": {
    "collapsed": false
   },
   "outputs": [
    {
     "data": {
      "text/plain": [
       "<spacy.en.English at 0x11aae7e10>"
      ]
     },
     "execution_count": 4,
     "metadata": {},
     "output_type": "execute_result"
    }
   ],
   "source": [
    "from spacy.en import English\n",
    "nlp_toolkit = English()\n",
    "nlp_toolkit"
   ]
  },
  {
   "cell_type": "code",
   "execution_count": 5,
   "metadata": {
    "collapsed": false
   },
   "outputs": [],
   "source": [
    "# Noun chunks out of the title\n",
    "\n",
    "nouns = []\n",
    "for title in kick_data.title:\n",
    "    n_doc = nlp_toolkit(title)\n",
    "    for np in n_doc.noun_chunks:\n",
    "        nouns.append(np)\n",
    "\n"
   ]
  },
  {
   "cell_type": "code",
   "execution_count": 6,
   "metadata": {
    "collapsed": false
   },
   "outputs": [],
   "source": [
    "# Get an idea of what ent types are in the titles.\n",
    "entities = []\n",
    "\n",
    "for title in kick_data.title:\n",
    "    doc = nlp_toolkit(title)\n",
    "    for ent in doc.ents:\n",
    "        entities.append(ent.label_)"
   ]
  },
  {
   "cell_type": "code",
   "execution_count": 7,
   "metadata": {
    "collapsed": false
   },
   "outputs": [
    {
     "data": {
      "text/plain": [
       "array([u'PERSON', u'ORG', u'LANGUAGE', u'CARDINAL', u'WORK_OF_ART', u'GPE',\n",
       "       u'TIME', u'ORDINAL', u'MONEY', u'DATE', u'FAC', u'PERCENT', u'NORP',\n",
       "       u'PRODUCT', u'LOC', u'EVENT', u'LAW', u'QUANTITY'], dtype=object)"
      ]
     },
     "execution_count": 7,
     "metadata": {},
     "output_type": "execute_result"
    }
   ],
   "source": [
    "# most of the entities are Person or ORG, but there are some others as well. \n",
    "pd.Series(entities).unique()\n"
   ]
  },
  {
   "cell_type": "code",
   "execution_count": 8,
   "metadata": {
    "collapsed": false
   },
   "outputs": [
    {
     "data": {
      "text/html": [
       "<div>\n",
       "<table border=\"1\" class=\"dataframe\">\n",
       "  <thead>\n",
       "    <tr style=\"text-align: right;\">\n",
       "      <th></th>\n",
       "      <th>title</th>\n",
       "    </tr>\n",
       "  </thead>\n",
       "  <tbody>\n",
       "    <tr>\n",
       "      <th>52</th>\n",
       "      <td>Remix Mini - The World's First True Android PC.</td>\n",
       "    </tr>\n",
       "    <tr>\n",
       "      <th>74</th>\n",
       "      <td>Purple\\xae Pillow: The World's First No-Pressu...</td>\n",
       "    </tr>\n",
       "    <tr>\n",
       "      <th>120</th>\n",
       "      <td>Reaper Miniatures Bones 3: The Search for Mr. ...</td>\n",
       "    </tr>\n",
       "    <tr>\n",
       "      <th>141</th>\n",
       "      <td>ZANO - Autonomous. Intelligent. Swarming. Nano...</td>\n",
       "    </tr>\n",
       "    <tr>\n",
       "      <th>173</th>\n",
       "      <td>Bobby, the Best Anti Theft backpack by XD Design</td>\n",
       "    </tr>\n",
       "    <tr>\n",
       "      <th>178</th>\n",
       "      <td>Smart Herb Garden by Click &amp; Grow</td>\n",
       "    </tr>\n",
       "    <tr>\n",
       "      <th>236</th>\n",
       "      <td>Toejam and Earl: Back in the Groove</td>\n",
       "    </tr>\n",
       "    <tr>\n",
       "      <th>238</th>\n",
       "      <td>Smart Parka - The World's First Complete Winte...</td>\n",
       "    </tr>\n",
       "    <tr>\n",
       "      <th>242</th>\n",
       "      <td>G-RO: Revolutionary Carry-on Luggage</td>\n",
       "    </tr>\n",
       "    <tr>\n",
       "      <th>360</th>\n",
       "      <td>JUMP Cable by Native Union</td>\n",
       "    </tr>\n",
       "  </tbody>\n",
       "</table>\n",
       "</div>"
      ],
      "text/plain": [
       "                                                 title\n",
       "52     Remix Mini - The World's First True Android PC.\n",
       "74   Purple\\xae Pillow: The World's First No-Pressu...\n",
       "120  Reaper Miniatures Bones 3: The Search for Mr. ...\n",
       "141  ZANO - Autonomous. Intelligent. Swarming. Nano...\n",
       "173   Bobby, the Best Anti Theft backpack by XD Design\n",
       "178                  Smart Herb Garden by Click & Grow\n",
       "236                Toejam and Earl: Back in the Groove\n",
       "238  Smart Parka - The World's First Complete Winte...\n",
       "242               G-RO: Revolutionary Carry-on Luggage\n",
       "360                         JUMP Cable by Native Union"
      ]
     },
     "execution_count": 8,
     "metadata": {},
     "output_type": "execute_result"
    }
   ],
   "source": [
    "#the most comon entities. \n",
    "def entites(title):\n",
    "    parsed = nlp_toolkit(title)\n",
    "    has_org = any([word.ent_type_ == 'ORG' for word in parsed])\n",
    "    has_person = any([word.ent_type_ == 'PERSON' for word in parsed])\n",
    "    return has_org and has_person\n",
    "\n",
    "kick_data['entities'] = kick_data['title'].fillna('').map(entites)  \n",
    "kick_data[kick_data['entities']][['title']].head(10)"
   ]
  },
  {
   "cell_type": "code",
   "execution_count": 9,
   "metadata": {
    "code_folding": [],
    "collapsed": false
   },
   "outputs": [],
   "source": [
    "def references_language(text):\n",
    "    parsed = nlp_toolkit(text)\n",
    "    return any([word.ent_type_ == 'LANGUAGE' for word in parsed])\n",
    "\n",
    "kick_data['title_language'] = kick_data['title'].fillna('').map(references_language)  \n",
    "kick_data['pitch_language'] = kick_data['pitch'].fillna('').map(references_language)"
   ]
  },
  {
   "cell_type": "code",
   "execution_count": 10,
   "metadata": {
    "collapsed": true
   },
   "outputs": [],
   "source": [
    "def references_cardinal(text):\n",
    "    parsed = nlp_toolkit(text)\n",
    "    return any([word.ent_type_ == 'CARDINAL' for word in parsed])\n",
    "\n",
    "kick_data['title_cardinal'] = kick_data['title'].fillna('').map(references_cardinal)  \n",
    "kick_data['pitch_cardinal'] = kick_data['pitch'].fillna('').map(references_cardinal)  "
   ]
  },
  {
   "cell_type": "code",
   "execution_count": 11,
   "metadata": {
    "collapsed": true
   },
   "outputs": [],
   "source": [
    "def references_art(text):\n",
    "    parsed = nlp_toolkit(text)\n",
    "    return any([word.ent_type_ == 'WORK_OF_ART' for word in parsed])\n",
    "\n",
    "kick_data['title_art'] = kick_data['title'].fillna('').map(references_art)  \n",
    "kick_data['pitch_art'] = kick_data['pitch'].fillna('').map(references_art)  "
   ]
  },
  {
   "cell_type": "code",
   "execution_count": 12,
   "metadata": {
    "collapsed": true
   },
   "outputs": [],
   "source": [
    "def references_gpe(text):\n",
    "    parsed = nlp_toolkit(text)\n",
    "    return any([word.ent_type_ == 'GPE' for word in parsed])\n",
    "\n",
    "kick_data['title_gpe'] = kick_data['title'].fillna('').map(references_gpe)  \n",
    "kick_data['pitch_gpe'] = kick_data['pitch'].fillna('').map(references_gpe) "
   ]
  },
  {
   "cell_type": "code",
   "execution_count": 13,
   "metadata": {
    "collapsed": true
   },
   "outputs": [],
   "source": [
    "def references_time(text):\n",
    "    parsed = nlp_toolkit(text)\n",
    "    return any([word.ent_type_ == 'TIME' for word in parsed])\n",
    "\n",
    "kick_data['title_time'] = kick_data['title'].fillna('').map(references_time)  \n",
    "kick_data['pitch_time'] = kick_data['pitch'].fillna('').map(references_time)  "
   ]
  },
  {
   "cell_type": "code",
   "execution_count": 14,
   "metadata": {
    "collapsed": true
   },
   "outputs": [],
   "source": [
    "def references_money(text):\n",
    "    parsed = nlp_toolkit(text)\n",
    "    return any([word.ent_type_ == 'MONEY' for word in parsed])\n",
    "\n",
    "kick_data['title_money'] = kick_data['title'].fillna('').map(references_money)  \n",
    "kick_data['pitch_money'] = kick_data['pitch'].fillna('').map(references_money)  "
   ]
  },
  {
   "cell_type": "code",
   "execution_count": 15,
   "metadata": {
    "collapsed": true
   },
   "outputs": [],
   "source": [
    "def references_date(text):\n",
    "    parsed = nlp_toolkit(text)\n",
    "    return any([word.ent_type_ == 'DATE' for word in parsed])\n",
    "\n",
    "kick_data['title_date'] = kick_data['title'].fillna('').map(references_date)  \n",
    "kick_data['pitch_date'] = kick_data['pitch'].fillna('').map(references_date)  "
   ]
  },
  {
   "cell_type": "code",
   "execution_count": 16,
   "metadata": {
    "collapsed": true
   },
   "outputs": [],
   "source": [
    "def references_fac(text):\n",
    "    parsed = nlp_toolkit(text)\n",
    "    return any([word.ent_type_ == 'FAC' for word in parsed])\n",
    "\n",
    "kick_data['title_fac'] = kick_data['title'].fillna('').map(references_fac)  \n",
    "kick_data['pitch_fac'] = kick_data['pitch'].fillna('').map(references_fac)  "
   ]
  },
  {
   "cell_type": "code",
   "execution_count": 17,
   "metadata": {
    "collapsed": true
   },
   "outputs": [],
   "source": [
    "def references_norp(text):\n",
    "    parsed = nlp_toolkit(text)\n",
    "    return any([word.ent_type_ == 'NORP' for word in parsed])\n",
    "\n",
    "kick_data['title_norp'] = kick_data['title'].fillna('').map(references_norp)  \n",
    "kick_data['pitch_norp'] = kick_data['pitch'].fillna('').map(references_norp)  "
   ]
  },
  {
   "cell_type": "code",
   "execution_count": 18,
   "metadata": {
    "collapsed": true
   },
   "outputs": [],
   "source": [
    "def references_product(text):\n",
    "    parsed = nlp_toolkit(text)\n",
    "    return any([word.ent_type_ == 'PRODUCT' for word in parsed])\n",
    "\n",
    "kick_data['title_product'] = kick_data['title'].fillna('').map(references_product)  \n",
    "kick_data['pitch_product'] = kick_data['pitch'].fillna('').map(references_product)  "
   ]
  },
  {
   "cell_type": "code",
   "execution_count": 19,
   "metadata": {
    "collapsed": true
   },
   "outputs": [],
   "source": [
    "def references_loc(text):\n",
    "    parsed = nlp_toolkit(text)\n",
    "    return any([word.ent_type_ == 'LOC' for word in parsed])\n",
    "\n",
    "kick_data['title_loc'] = kick_data['title'].fillna('').map(references_loc)  \n",
    "kick_data['pitch_loc'] = kick_data['pitch'].fillna('').map(references_loc)  "
   ]
  },
  {
   "cell_type": "code",
   "execution_count": 20,
   "metadata": {
    "collapsed": true
   },
   "outputs": [],
   "source": [
    "def references_event(text):\n",
    "    parsed = nlp_toolkit(text)\n",
    "    return any([word.ent_type_ == 'EVENT' for word in parsed])\n",
    "\n",
    "kick_data['title_event'] = kick_data['title'].fillna('').map(references_event)  \n",
    "kick_data['pitch_event'] = kick_data['pitch'].fillna('').map(references_event)  "
   ]
  },
  {
   "cell_type": "code",
   "execution_count": 21,
   "metadata": {
    "collapsed": true
   },
   "outputs": [],
   "source": [
    "def references_law(text):\n",
    "    parsed = nlp_toolkit(text)\n",
    "    return any([word.ent_type_ == 'LAW' for word in parsed])\n",
    "\n",
    "kick_data['title_law'] = kick_data['title'].fillna('').map(references_law)  \n",
    "kick_data['pitch_law'] = kick_data['pitch'].fillna('').map(references_law)  "
   ]
  },
  {
   "cell_type": "code",
   "execution_count": 22,
   "metadata": {
    "collapsed": false
   },
   "outputs": [],
   "source": [
    "def references_quantity(text):\n",
    "    parsed = nlp_toolkit(text)\n",
    "    return any([word.ent_type_ == 'QUANTITY' for word in parsed])\n",
    "\n",
    "kick_data['title_quantity'] = kick_data['title'].fillna('').map(references_quantity)  \n",
    "kick_data['pitch_quantity'] = kick_data['pitch'].fillna('').map(references_quantity)"
   ]
  },
  {
   "cell_type": "code",
   "execution_count": 23,
   "metadata": {
    "collapsed": false,
    "scrolled": true
   },
   "outputs": [
    {
     "data": {
      "text/html": [
       "<div>\n",
       "<table border=\"1\" class=\"dataframe\">\n",
       "  <thead>\n",
       "    <tr style=\"text-align: right;\">\n",
       "      <th>category</th>\n",
       "      <th>3D Printing</th>\n",
       "      <th>Academic</th>\n",
       "      <th>Accessories</th>\n",
       "      <th>Action</th>\n",
       "      <th>Animation</th>\n",
       "      <th>Anthologies</th>\n",
       "      <th>Apparel</th>\n",
       "      <th>Apps</th>\n",
       "      <th>Architecture</th>\n",
       "      <th>Art</th>\n",
       "      <th>...</th>\n",
       "      <th>Vegan</th>\n",
       "      <th>Video</th>\n",
       "      <th>Video Games</th>\n",
       "      <th>Wearables</th>\n",
       "      <th>Web</th>\n",
       "      <th>Webcomics</th>\n",
       "      <th>Webseries</th>\n",
       "      <th>World Music</th>\n",
       "      <th>Young Adult</th>\n",
       "      <th>Zines</th>\n",
       "    </tr>\n",
       "    <tr>\n",
       "      <th>entities</th>\n",
       "      <th></th>\n",
       "      <th></th>\n",
       "      <th></th>\n",
       "      <th></th>\n",
       "      <th></th>\n",
       "      <th></th>\n",
       "      <th></th>\n",
       "      <th></th>\n",
       "      <th></th>\n",
       "      <th></th>\n",
       "      <th></th>\n",
       "      <th></th>\n",
       "      <th></th>\n",
       "      <th></th>\n",
       "      <th></th>\n",
       "      <th></th>\n",
       "      <th></th>\n",
       "      <th></th>\n",
       "      <th></th>\n",
       "      <th></th>\n",
       "      <th></th>\n",
       "    </tr>\n",
       "  </thead>\n",
       "  <tbody>\n",
       "    <tr>\n",
       "      <th>False</th>\n",
       "      <td>23</td>\n",
       "      <td>1</td>\n",
       "      <td>20</td>\n",
       "      <td>1</td>\n",
       "      <td>48</td>\n",
       "      <td>23</td>\n",
       "      <td>30</td>\n",
       "      <td>17</td>\n",
       "      <td>2</td>\n",
       "      <td>14</td>\n",
       "      <td>...</td>\n",
       "      <td>5</td>\n",
       "      <td>1</td>\n",
       "      <td>511</td>\n",
       "      <td>63</td>\n",
       "      <td>13</td>\n",
       "      <td>33</td>\n",
       "      <td>31</td>\n",
       "      <td>2</td>\n",
       "      <td>1</td>\n",
       "      <td>1</td>\n",
       "    </tr>\n",
       "    <tr>\n",
       "      <th>True</th>\n",
       "      <td>0</td>\n",
       "      <td>0</td>\n",
       "      <td>0</td>\n",
       "      <td>0</td>\n",
       "      <td>1</td>\n",
       "      <td>0</td>\n",
       "      <td>2</td>\n",
       "      <td>0</td>\n",
       "      <td>0</td>\n",
       "      <td>1</td>\n",
       "      <td>...</td>\n",
       "      <td>0</td>\n",
       "      <td>0</td>\n",
       "      <td>13</td>\n",
       "      <td>1</td>\n",
       "      <td>0</td>\n",
       "      <td>0</td>\n",
       "      <td>1</td>\n",
       "      <td>0</td>\n",
       "      <td>0</td>\n",
       "      <td>0</td>\n",
       "    </tr>\n",
       "  </tbody>\n",
       "</table>\n",
       "<p>2 rows × 115 columns</p>\n",
       "</div>"
      ],
      "text/plain": [
       "category  3D Printing  Academic  Accessories  Action  Animation  Anthologies  \\\n",
       "entities                                                                       \n",
       "False              23         1           20       1         48           23   \n",
       "True                0         0            0       0          1            0   \n",
       "\n",
       "category  Apparel  Apps  Architecture  Art  ...    Vegan  Video  Video Games  \\\n",
       "entities                                    ...                                \n",
       "False          30    17             2   14  ...        5      1          511   \n",
       "True            2     0             0    1  ...        0      0           13   \n",
       "\n",
       "category  Wearables  Web  Webcomics  Webseries  World Music  Young Adult  \\\n",
       "entities                                                                   \n",
       "False            63   13         33         31            2            1   \n",
       "True              1    0          0          1            0            0   \n",
       "\n",
       "category  Zines  \n",
       "entities         \n",
       "False         1  \n",
       "True          0  \n",
       "\n",
       "[2 rows x 115 columns]"
      ]
     },
     "execution_count": 23,
     "metadata": {},
     "output_type": "execute_result"
    }
   ],
   "source": [
    "pd.crosstab(kick_data['entities'], kick_data['category'])\n"
   ]
  },
  {
   "cell_type": "code",
   "execution_count": 24,
   "metadata": {
    "collapsed": false
   },
   "outputs": [
    {
     "data": {
      "text/html": [
       "<div>\n",
       "<table border=\"1\" class=\"dataframe\">\n",
       "  <thead>\n",
       "    <tr style=\"text-align: right;\">\n",
       "      <th>category</th>\n",
       "      <th>3D Printing</th>\n",
       "      <th>Academic</th>\n",
       "      <th>Accessories</th>\n",
       "      <th>Action</th>\n",
       "      <th>Animation</th>\n",
       "      <th>Anthologies</th>\n",
       "      <th>Apparel</th>\n",
       "      <th>Apps</th>\n",
       "      <th>Architecture</th>\n",
       "      <th>Art</th>\n",
       "      <th>...</th>\n",
       "      <th>Vegan</th>\n",
       "      <th>Video</th>\n",
       "      <th>Video Games</th>\n",
       "      <th>Wearables</th>\n",
       "      <th>Web</th>\n",
       "      <th>Webcomics</th>\n",
       "      <th>Webseries</th>\n",
       "      <th>World Music</th>\n",
       "      <th>Young Adult</th>\n",
       "      <th>Zines</th>\n",
       "    </tr>\n",
       "    <tr>\n",
       "      <th>pitch_art</th>\n",
       "      <th></th>\n",
       "      <th></th>\n",
       "      <th></th>\n",
       "      <th></th>\n",
       "      <th></th>\n",
       "      <th></th>\n",
       "      <th></th>\n",
       "      <th></th>\n",
       "      <th></th>\n",
       "      <th></th>\n",
       "      <th></th>\n",
       "      <th></th>\n",
       "      <th></th>\n",
       "      <th></th>\n",
       "      <th></th>\n",
       "      <th></th>\n",
       "      <th></th>\n",
       "      <th></th>\n",
       "      <th></th>\n",
       "      <th></th>\n",
       "      <th></th>\n",
       "    </tr>\n",
       "  </thead>\n",
       "  <tbody>\n",
       "    <tr>\n",
       "      <th>False</th>\n",
       "      <td>22</td>\n",
       "      <td>1</td>\n",
       "      <td>20</td>\n",
       "      <td>1</td>\n",
       "      <td>44</td>\n",
       "      <td>22</td>\n",
       "      <td>32</td>\n",
       "      <td>16</td>\n",
       "      <td>2</td>\n",
       "      <td>15</td>\n",
       "      <td>...</td>\n",
       "      <td>5</td>\n",
       "      <td>1</td>\n",
       "      <td>510</td>\n",
       "      <td>64</td>\n",
       "      <td>13</td>\n",
       "      <td>33</td>\n",
       "      <td>24</td>\n",
       "      <td>2</td>\n",
       "      <td>1</td>\n",
       "      <td>1</td>\n",
       "    </tr>\n",
       "    <tr>\n",
       "      <th>True</th>\n",
       "      <td>1</td>\n",
       "      <td>0</td>\n",
       "      <td>0</td>\n",
       "      <td>0</td>\n",
       "      <td>5</td>\n",
       "      <td>1</td>\n",
       "      <td>0</td>\n",
       "      <td>1</td>\n",
       "      <td>0</td>\n",
       "      <td>0</td>\n",
       "      <td>...</td>\n",
       "      <td>0</td>\n",
       "      <td>0</td>\n",
       "      <td>14</td>\n",
       "      <td>0</td>\n",
       "      <td>0</td>\n",
       "      <td>0</td>\n",
       "      <td>8</td>\n",
       "      <td>0</td>\n",
       "      <td>0</td>\n",
       "      <td>0</td>\n",
       "    </tr>\n",
       "  </tbody>\n",
       "</table>\n",
       "<p>2 rows × 115 columns</p>\n",
       "</div>"
      ],
      "text/plain": [
       "category   3D Printing  Academic  Accessories  Action  Animation  Anthologies  \\\n",
       "pitch_art                                                                       \n",
       "False               22         1           20       1         44           22   \n",
       "True                 1         0            0       0          5            1   \n",
       "\n",
       "category   Apparel  Apps  Architecture  Art  ...    Vegan  Video  Video Games  \\\n",
       "pitch_art                                    ...                                \n",
       "False           32    16             2   15  ...        5      1          510   \n",
       "True             0     1             0    0  ...        0      0           14   \n",
       "\n",
       "category   Wearables  Web  Webcomics  Webseries  World Music  Young Adult  \\\n",
       "pitch_art                                                                   \n",
       "False             64   13         33         24            2            1   \n",
       "True               0    0          0          8            0            0   \n",
       "\n",
       "category   Zines  \n",
       "pitch_art         \n",
       "False          1  \n",
       "True           0  \n",
       "\n",
       "[2 rows x 115 columns]"
      ]
     },
     "execution_count": 24,
     "metadata": {},
     "output_type": "execute_result"
    }
   ],
   "source": [
    "pd.crosstab(kick_data['pitch_art'], kick_data['category'])\n"
   ]
  },
  {
   "cell_type": "code",
   "execution_count": 25,
   "metadata": {
    "collapsed": false
   },
   "outputs": [
    {
     "data": {
      "text/html": [
       "<div>\n",
       "<table border=\"1\" class=\"dataframe\">\n",
       "  <thead>\n",
       "    <tr style=\"text-align: right;\">\n",
       "      <th>category</th>\n",
       "      <th>3D Printing</th>\n",
       "      <th>Academic</th>\n",
       "      <th>Accessories</th>\n",
       "      <th>Action</th>\n",
       "      <th>Animation</th>\n",
       "      <th>Anthologies</th>\n",
       "      <th>Apparel</th>\n",
       "      <th>Apps</th>\n",
       "      <th>Architecture</th>\n",
       "      <th>Art</th>\n",
       "      <th>...</th>\n",
       "      <th>Vegan</th>\n",
       "      <th>Video</th>\n",
       "      <th>Video Games</th>\n",
       "      <th>Wearables</th>\n",
       "      <th>Web</th>\n",
       "      <th>Webcomics</th>\n",
       "      <th>Webseries</th>\n",
       "      <th>World Music</th>\n",
       "      <th>Young Adult</th>\n",
       "      <th>Zines</th>\n",
       "    </tr>\n",
       "    <tr>\n",
       "      <th>pitch_product</th>\n",
       "      <th></th>\n",
       "      <th></th>\n",
       "      <th></th>\n",
       "      <th></th>\n",
       "      <th></th>\n",
       "      <th></th>\n",
       "      <th></th>\n",
       "      <th></th>\n",
       "      <th></th>\n",
       "      <th></th>\n",
       "      <th></th>\n",
       "      <th></th>\n",
       "      <th></th>\n",
       "      <th></th>\n",
       "      <th></th>\n",
       "      <th></th>\n",
       "      <th></th>\n",
       "      <th></th>\n",
       "      <th></th>\n",
       "      <th></th>\n",
       "      <th></th>\n",
       "    </tr>\n",
       "  </thead>\n",
       "  <tbody>\n",
       "    <tr>\n",
       "      <th>False</th>\n",
       "      <td>23</td>\n",
       "      <td>1</td>\n",
       "      <td>20</td>\n",
       "      <td>1</td>\n",
       "      <td>48</td>\n",
       "      <td>23</td>\n",
       "      <td>32</td>\n",
       "      <td>17</td>\n",
       "      <td>2</td>\n",
       "      <td>15</td>\n",
       "      <td>...</td>\n",
       "      <td>5</td>\n",
       "      <td>1</td>\n",
       "      <td>511</td>\n",
       "      <td>64</td>\n",
       "      <td>13</td>\n",
       "      <td>33</td>\n",
       "      <td>31</td>\n",
       "      <td>2</td>\n",
       "      <td>1</td>\n",
       "      <td>1</td>\n",
       "    </tr>\n",
       "    <tr>\n",
       "      <th>True</th>\n",
       "      <td>0</td>\n",
       "      <td>0</td>\n",
       "      <td>0</td>\n",
       "      <td>0</td>\n",
       "      <td>1</td>\n",
       "      <td>0</td>\n",
       "      <td>0</td>\n",
       "      <td>0</td>\n",
       "      <td>0</td>\n",
       "      <td>0</td>\n",
       "      <td>...</td>\n",
       "      <td>0</td>\n",
       "      <td>0</td>\n",
       "      <td>13</td>\n",
       "      <td>0</td>\n",
       "      <td>0</td>\n",
       "      <td>0</td>\n",
       "      <td>1</td>\n",
       "      <td>0</td>\n",
       "      <td>0</td>\n",
       "      <td>0</td>\n",
       "    </tr>\n",
       "  </tbody>\n",
       "</table>\n",
       "<p>2 rows × 115 columns</p>\n",
       "</div>"
      ],
      "text/plain": [
       "category       3D Printing  Academic  Accessories  Action  Animation  \\\n",
       "pitch_product                                                          \n",
       "False                   23         1           20       1         48   \n",
       "True                     0         0            0       0          1   \n",
       "\n",
       "category       Anthologies  Apparel  Apps  Architecture  Art  ...    Vegan  \\\n",
       "pitch_product                                                 ...            \n",
       "False                   23       32    17             2   15  ...        5   \n",
       "True                     0        0     0             0    0  ...        0   \n",
       "\n",
       "category       Video  Video Games  Wearables  Web  Webcomics  Webseries  \\\n",
       "pitch_product                                                             \n",
       "False              1          511         64   13         33         31   \n",
       "True               0           13          0    0          0          1   \n",
       "\n",
       "category       World Music  Young Adult  Zines  \n",
       "pitch_product                                   \n",
       "False                    2            1      1  \n",
       "True                     0            0      0  \n",
       "\n",
       "[2 rows x 115 columns]"
      ]
     },
     "execution_count": 25,
     "metadata": {},
     "output_type": "execute_result"
    }
   ],
   "source": [
    "pd.crosstab(kick_data['pitch_product'], kick_data['category'])\n",
    "\n"
   ]
  },
  {
   "cell_type": "code",
   "execution_count": 26,
   "metadata": {
    "collapsed": false
   },
   "outputs": [
    {
     "data": {
      "text/html": [
       "<div>\n",
       "<table border=\"1\" class=\"dataframe\">\n",
       "  <thead>\n",
       "    <tr style=\"text-align: right;\">\n",
       "      <th></th>\n",
       "      <th>title</th>\n",
       "    </tr>\n",
       "  </thead>\n",
       "  <tbody>\n",
       "    <tr>\n",
       "      <th>42</th>\n",
       "      <td>Theatre Is Evil: the album, art book and tour</td>\n",
       "    </tr>\n",
       "    <tr>\n",
       "      <th>55</th>\n",
       "      <td>System Shock</td>\n",
       "    </tr>\n",
       "    <tr>\n",
       "      <th>138</th>\n",
       "      <td>Tak: A Beautiful Game</td>\n",
       "    </tr>\n",
       "    <tr>\n",
       "      <th>157</th>\n",
       "      <td>The Name of the Wind Playing Cards</td>\n",
       "    </tr>\n",
       "    <tr>\n",
       "      <th>264</th>\n",
       "      <td>\"Chug\" from the team that brought you \"Three S...</td>\n",
       "    </tr>\n",
       "    <tr>\n",
       "      <th>338</th>\n",
       "      <td>The Resistance - Hostile Intent &amp; Hidden Agenda</td>\n",
       "    </tr>\n",
       "    <tr>\n",
       "      <th>339</th>\n",
       "      <td>Small World 2: The Return!</td>\n",
       "    </tr>\n",
       "    <tr>\n",
       "      <th>341</th>\n",
       "      <td>Masters Of Anatomy</td>\n",
       "    </tr>\n",
       "    <tr>\n",
       "      <th>355</th>\n",
       "      <td>StoneTether - The Smallest Tracking Device at ...</td>\n",
       "    </tr>\n",
       "    <tr>\n",
       "      <th>380</th>\n",
       "      <td>Twilight Struggle Digital Edition</td>\n",
       "    </tr>\n",
       "  </tbody>\n",
       "</table>\n",
       "</div>"
      ],
      "text/plain": [
       "                                                 title\n",
       "42       Theatre Is Evil: the album, art book and tour\n",
       "55                                        System Shock\n",
       "138                              Tak: A Beautiful Game\n",
       "157                 The Name of the Wind Playing Cards\n",
       "264  \"Chug\" from the team that brought you \"Three S...\n",
       "338    The Resistance - Hostile Intent & Hidden Agenda\n",
       "339                         Small World 2: The Return!\n",
       "341                                 Masters Of Anatomy\n",
       "355  StoneTether - The Smallest Tracking Device at ...\n",
       "380                  Twilight Struggle Digital Edition"
      ]
     },
     "execution_count": 26,
     "metadata": {},
     "output_type": "execute_result"
    }
   ],
   "source": [
    "kick_data[kick_data['pitch_art']][['title']].head(10)"
   ]
  },
  {
   "cell_type": "code",
   "execution_count": 27,
   "metadata": {
    "collapsed": false
   },
   "outputs": [
    {
     "data": {
      "text/html": [
       "<div>\n",
       "<table border=\"1\" class=\"dataframe\">\n",
       "  <thead>\n",
       "    <tr style=\"text-align: right;\">\n",
       "      <th></th>\n",
       "      <th>title</th>\n",
       "    </tr>\n",
       "  </thead>\n",
       "  <tbody>\n",
       "    <tr>\n",
       "      <th>52</th>\n",
       "      <td>Remix Mini - The World's First True Android PC.</td>\n",
       "    </tr>\n",
       "    <tr>\n",
       "      <th>74</th>\n",
       "      <td>Purple\\xae Pillow: The World's First No-Pressu...</td>\n",
       "    </tr>\n",
       "    <tr>\n",
       "      <th>120</th>\n",
       "      <td>Reaper Miniatures Bones 3: The Search for Mr. ...</td>\n",
       "    </tr>\n",
       "    <tr>\n",
       "      <th>141</th>\n",
       "      <td>ZANO - Autonomous. Intelligent. Swarming. Nano...</td>\n",
       "    </tr>\n",
       "    <tr>\n",
       "      <th>173</th>\n",
       "      <td>Bobby, the Best Anti Theft backpack by XD Design</td>\n",
       "    </tr>\n",
       "    <tr>\n",
       "      <th>178</th>\n",
       "      <td>Smart Herb Garden by Click &amp; Grow</td>\n",
       "    </tr>\n",
       "    <tr>\n",
       "      <th>236</th>\n",
       "      <td>Toejam and Earl: Back in the Groove</td>\n",
       "    </tr>\n",
       "    <tr>\n",
       "      <th>238</th>\n",
       "      <td>Smart Parka - The World's First Complete Winte...</td>\n",
       "    </tr>\n",
       "    <tr>\n",
       "      <th>242</th>\n",
       "      <td>G-RO: Revolutionary Carry-on Luggage</td>\n",
       "    </tr>\n",
       "    <tr>\n",
       "      <th>360</th>\n",
       "      <td>JUMP Cable by Native Union</td>\n",
       "    </tr>\n",
       "  </tbody>\n",
       "</table>\n",
       "</div>"
      ],
      "text/plain": [
       "                                                 title\n",
       "52     Remix Mini - The World's First True Android PC.\n",
       "74   Purple\\xae Pillow: The World's First No-Pressu...\n",
       "120  Reaper Miniatures Bones 3: The Search for Mr. ...\n",
       "141  ZANO - Autonomous. Intelligent. Swarming. Nano...\n",
       "173   Bobby, the Best Anti Theft backpack by XD Design\n",
       "178                  Smart Herb Garden by Click & Grow\n",
       "236                Toejam and Earl: Back in the Groove\n",
       "238  Smart Parka - The World's First Complete Winte...\n",
       "242               G-RO: Revolutionary Carry-on Luggage\n",
       "360                         JUMP Cable by Native Union"
      ]
     },
     "execution_count": 27,
     "metadata": {},
     "output_type": "execute_result"
    }
   ],
   "source": [
    "kick_data[kick_data['entities']][['title']].head(10)"
   ]
  },
  {
   "cell_type": "code",
   "execution_count": 28,
   "metadata": {
    "collapsed": false
   },
   "outputs": [
    {
     "data": {
      "text/plain": [
       "Index([u'pledged_amount', u'pitch', u'by', u'category', u'currency', u'goal',\n",
       "       u'location', u'backers', u'backers_by_tier', u'pledge_tier', u'title',\n",
       "       u'url', u'entities', u'title_language', u'pitch_language',\n",
       "       u'title_cardinal', u'pitch_cardinal', u'title_art', u'pitch_art',\n",
       "       u'title_gpe', u'pitch_gpe', u'title_time', u'pitch_time',\n",
       "       u'title_money', u'pitch_money', u'title_date', u'pitch_date',\n",
       "       u'title_fac', u'pitch_fac', u'title_norp', u'pitch_norp',\n",
       "       u'title_product', u'pitch_product', u'title_loc', u'pitch_loc',\n",
       "       u'title_event', u'pitch_event', u'title_law', u'pitch_law',\n",
       "       u'title_quantity', u'pitch_quantity'],\n",
       "      dtype='object')"
      ]
     },
     "execution_count": 28,
     "metadata": {},
     "output_type": "execute_result"
    }
   ],
   "source": [
    "kick_data.columns"
   ]
  },
  {
   "cell_type": "code",
   "execution_count": 29,
   "metadata": {
    "collapsed": false
   },
   "outputs": [
    {
     "ename": "KeyError",
     "evalue": "u'entites'",
     "output_type": "error",
     "traceback": [
      "\u001b[0;31m---------------------------------------------------------------------------\u001b[0m",
      "\u001b[0;31mKeyError\u001b[0m                                  Traceback (most recent call last)",
      "\u001b[0;32m<ipython-input-29-274960ced7f7>\u001b[0m in \u001b[0;36m<module>\u001b[0;34m()\u001b[0m\n\u001b[0;32m----> 1\u001b[0;31m \u001b[0mkick_data\u001b[0m\u001b[0;34m[\u001b[0m\u001b[0mkick_data\u001b[0m\u001b[0;34m[\u001b[0m\u001b[0;34m'entites'\u001b[0m\u001b[0;34m]\u001b[0m\u001b[0;34m]\u001b[0m\u001b[0;34m[\u001b[0m\u001b[0;34m[\u001b[0m\u001b[0;34m'title'\u001b[0m\u001b[0;34m]\u001b[0m\u001b[0;34m]\u001b[0m\u001b[0;34m.\u001b[0m\u001b[0mhead\u001b[0m\u001b[0;34m(\u001b[0m\u001b[0;36m20\u001b[0m\u001b[0;34m)\u001b[0m\u001b[0;34m\u001b[0m\u001b[0m\n\u001b[0m",
      "\u001b[0;32m//anaconda/lib/python2.7/site-packages/pandas/core/frame.pyc\u001b[0m in \u001b[0;36m__getitem__\u001b[0;34m(self, key)\u001b[0m\n\u001b[1;32m   1995\u001b[0m             \u001b[0;32mreturn\u001b[0m \u001b[0mself\u001b[0m\u001b[0;34m.\u001b[0m\u001b[0m_getitem_multilevel\u001b[0m\u001b[0;34m(\u001b[0m\u001b[0mkey\u001b[0m\u001b[0;34m)\u001b[0m\u001b[0;34m\u001b[0m\u001b[0m\n\u001b[1;32m   1996\u001b[0m         \u001b[0;32melse\u001b[0m\u001b[0;34m:\u001b[0m\u001b[0;34m\u001b[0m\u001b[0m\n\u001b[0;32m-> 1997\u001b[0;31m             \u001b[0;32mreturn\u001b[0m \u001b[0mself\u001b[0m\u001b[0;34m.\u001b[0m\u001b[0m_getitem_column\u001b[0m\u001b[0;34m(\u001b[0m\u001b[0mkey\u001b[0m\u001b[0;34m)\u001b[0m\u001b[0;34m\u001b[0m\u001b[0m\n\u001b[0m\u001b[1;32m   1998\u001b[0m \u001b[0;34m\u001b[0m\u001b[0m\n\u001b[1;32m   1999\u001b[0m     \u001b[0;32mdef\u001b[0m \u001b[0m_getitem_column\u001b[0m\u001b[0;34m(\u001b[0m\u001b[0mself\u001b[0m\u001b[0;34m,\u001b[0m \u001b[0mkey\u001b[0m\u001b[0;34m)\u001b[0m\u001b[0;34m:\u001b[0m\u001b[0;34m\u001b[0m\u001b[0m\n",
      "\u001b[0;32m//anaconda/lib/python2.7/site-packages/pandas/core/frame.pyc\u001b[0m in \u001b[0;36m_getitem_column\u001b[0;34m(self, key)\u001b[0m\n\u001b[1;32m   2002\u001b[0m         \u001b[0;31m# get column\u001b[0m\u001b[0;34m\u001b[0m\u001b[0;34m\u001b[0m\u001b[0m\n\u001b[1;32m   2003\u001b[0m         \u001b[0;32mif\u001b[0m \u001b[0mself\u001b[0m\u001b[0;34m.\u001b[0m\u001b[0mcolumns\u001b[0m\u001b[0;34m.\u001b[0m\u001b[0mis_unique\u001b[0m\u001b[0;34m:\u001b[0m\u001b[0;34m\u001b[0m\u001b[0m\n\u001b[0;32m-> 2004\u001b[0;31m             \u001b[0;32mreturn\u001b[0m \u001b[0mself\u001b[0m\u001b[0;34m.\u001b[0m\u001b[0m_get_item_cache\u001b[0m\u001b[0;34m(\u001b[0m\u001b[0mkey\u001b[0m\u001b[0;34m)\u001b[0m\u001b[0;34m\u001b[0m\u001b[0m\n\u001b[0m\u001b[1;32m   2005\u001b[0m \u001b[0;34m\u001b[0m\u001b[0m\n\u001b[1;32m   2006\u001b[0m         \u001b[0;31m# duplicate columns & possible reduce dimensionality\u001b[0m\u001b[0;34m\u001b[0m\u001b[0;34m\u001b[0m\u001b[0m\n",
      "\u001b[0;32m//anaconda/lib/python2.7/site-packages/pandas/core/generic.pyc\u001b[0m in \u001b[0;36m_get_item_cache\u001b[0;34m(self, item)\u001b[0m\n\u001b[1;32m   1348\u001b[0m         \u001b[0mres\u001b[0m \u001b[0;34m=\u001b[0m \u001b[0mcache\u001b[0m\u001b[0;34m.\u001b[0m\u001b[0mget\u001b[0m\u001b[0;34m(\u001b[0m\u001b[0mitem\u001b[0m\u001b[0;34m)\u001b[0m\u001b[0;34m\u001b[0m\u001b[0m\n\u001b[1;32m   1349\u001b[0m         \u001b[0;32mif\u001b[0m \u001b[0mres\u001b[0m \u001b[0;32mis\u001b[0m \u001b[0mNone\u001b[0m\u001b[0;34m:\u001b[0m\u001b[0;34m\u001b[0m\u001b[0m\n\u001b[0;32m-> 1350\u001b[0;31m             \u001b[0mvalues\u001b[0m \u001b[0;34m=\u001b[0m \u001b[0mself\u001b[0m\u001b[0;34m.\u001b[0m\u001b[0m_data\u001b[0m\u001b[0;34m.\u001b[0m\u001b[0mget\u001b[0m\u001b[0;34m(\u001b[0m\u001b[0mitem\u001b[0m\u001b[0;34m)\u001b[0m\u001b[0;34m\u001b[0m\u001b[0m\n\u001b[0m\u001b[1;32m   1351\u001b[0m             \u001b[0mres\u001b[0m \u001b[0;34m=\u001b[0m \u001b[0mself\u001b[0m\u001b[0;34m.\u001b[0m\u001b[0m_box_item_values\u001b[0m\u001b[0;34m(\u001b[0m\u001b[0mitem\u001b[0m\u001b[0;34m,\u001b[0m \u001b[0mvalues\u001b[0m\u001b[0;34m)\u001b[0m\u001b[0;34m\u001b[0m\u001b[0m\n\u001b[1;32m   1352\u001b[0m             \u001b[0mcache\u001b[0m\u001b[0;34m[\u001b[0m\u001b[0mitem\u001b[0m\u001b[0;34m]\u001b[0m \u001b[0;34m=\u001b[0m \u001b[0mres\u001b[0m\u001b[0;34m\u001b[0m\u001b[0m\n",
      "\u001b[0;32m//anaconda/lib/python2.7/site-packages/pandas/core/internals.pyc\u001b[0m in \u001b[0;36mget\u001b[0;34m(self, item, fastpath)\u001b[0m\n\u001b[1;32m   3288\u001b[0m \u001b[0;34m\u001b[0m\u001b[0m\n\u001b[1;32m   3289\u001b[0m             \u001b[0;32mif\u001b[0m \u001b[0;32mnot\u001b[0m \u001b[0misnull\u001b[0m\u001b[0;34m(\u001b[0m\u001b[0mitem\u001b[0m\u001b[0;34m)\u001b[0m\u001b[0;34m:\u001b[0m\u001b[0;34m\u001b[0m\u001b[0m\n\u001b[0;32m-> 3290\u001b[0;31m                 \u001b[0mloc\u001b[0m \u001b[0;34m=\u001b[0m \u001b[0mself\u001b[0m\u001b[0;34m.\u001b[0m\u001b[0mitems\u001b[0m\u001b[0;34m.\u001b[0m\u001b[0mget_loc\u001b[0m\u001b[0;34m(\u001b[0m\u001b[0mitem\u001b[0m\u001b[0;34m)\u001b[0m\u001b[0;34m\u001b[0m\u001b[0m\n\u001b[0m\u001b[1;32m   3291\u001b[0m             \u001b[0;32melse\u001b[0m\u001b[0;34m:\u001b[0m\u001b[0;34m\u001b[0m\u001b[0m\n\u001b[1;32m   3292\u001b[0m                 \u001b[0mindexer\u001b[0m \u001b[0;34m=\u001b[0m \u001b[0mnp\u001b[0m\u001b[0;34m.\u001b[0m\u001b[0marange\u001b[0m\u001b[0;34m(\u001b[0m\u001b[0mlen\u001b[0m\u001b[0;34m(\u001b[0m\u001b[0mself\u001b[0m\u001b[0;34m.\u001b[0m\u001b[0mitems\u001b[0m\u001b[0;34m)\u001b[0m\u001b[0;34m)\u001b[0m\u001b[0;34m[\u001b[0m\u001b[0misnull\u001b[0m\u001b[0;34m(\u001b[0m\u001b[0mself\u001b[0m\u001b[0;34m.\u001b[0m\u001b[0mitems\u001b[0m\u001b[0;34m)\u001b[0m\u001b[0;34m]\u001b[0m\u001b[0;34m\u001b[0m\u001b[0m\n",
      "\u001b[0;32m//anaconda/lib/python2.7/site-packages/pandas/indexes/base.pyc\u001b[0m in \u001b[0;36mget_loc\u001b[0;34m(self, key, method, tolerance)\u001b[0m\n\u001b[1;32m   1945\u001b[0m                 \u001b[0;32mreturn\u001b[0m \u001b[0mself\u001b[0m\u001b[0;34m.\u001b[0m\u001b[0m_engine\u001b[0m\u001b[0;34m.\u001b[0m\u001b[0mget_loc\u001b[0m\u001b[0;34m(\u001b[0m\u001b[0mkey\u001b[0m\u001b[0;34m)\u001b[0m\u001b[0;34m\u001b[0m\u001b[0m\n\u001b[1;32m   1946\u001b[0m             \u001b[0;32mexcept\u001b[0m \u001b[0mKeyError\u001b[0m\u001b[0;34m:\u001b[0m\u001b[0;34m\u001b[0m\u001b[0m\n\u001b[0;32m-> 1947\u001b[0;31m                 \u001b[0;32mreturn\u001b[0m \u001b[0mself\u001b[0m\u001b[0;34m.\u001b[0m\u001b[0m_engine\u001b[0m\u001b[0;34m.\u001b[0m\u001b[0mget_loc\u001b[0m\u001b[0;34m(\u001b[0m\u001b[0mself\u001b[0m\u001b[0;34m.\u001b[0m\u001b[0m_maybe_cast_indexer\u001b[0m\u001b[0;34m(\u001b[0m\u001b[0mkey\u001b[0m\u001b[0;34m)\u001b[0m\u001b[0;34m)\u001b[0m\u001b[0;34m\u001b[0m\u001b[0m\n\u001b[0m\u001b[1;32m   1948\u001b[0m \u001b[0;34m\u001b[0m\u001b[0m\n\u001b[1;32m   1949\u001b[0m         \u001b[0mindexer\u001b[0m \u001b[0;34m=\u001b[0m \u001b[0mself\u001b[0m\u001b[0;34m.\u001b[0m\u001b[0mget_indexer\u001b[0m\u001b[0;34m(\u001b[0m\u001b[0;34m[\u001b[0m\u001b[0mkey\u001b[0m\u001b[0;34m]\u001b[0m\u001b[0;34m,\u001b[0m \u001b[0mmethod\u001b[0m\u001b[0;34m=\u001b[0m\u001b[0mmethod\u001b[0m\u001b[0;34m,\u001b[0m \u001b[0mtolerance\u001b[0m\u001b[0;34m=\u001b[0m\u001b[0mtolerance\u001b[0m\u001b[0;34m)\u001b[0m\u001b[0;34m\u001b[0m\u001b[0m\n",
      "\u001b[0;32mpandas/index.pyx\u001b[0m in \u001b[0;36mpandas.index.IndexEngine.get_loc (pandas/index.c:4154)\u001b[0;34m()\u001b[0m\n",
      "\u001b[0;32mpandas/index.pyx\u001b[0m in \u001b[0;36mpandas.index.IndexEngine.get_loc (pandas/index.c:4018)\u001b[0;34m()\u001b[0m\n",
      "\u001b[0;32mpandas/hashtable.pyx\u001b[0m in \u001b[0;36mpandas.hashtable.PyObjectHashTable.get_item (pandas/hashtable.c:12368)\u001b[0;34m()\u001b[0m\n",
      "\u001b[0;32mpandas/hashtable.pyx\u001b[0m in \u001b[0;36mpandas.hashtable.PyObjectHashTable.get_item (pandas/hashtable.c:12322)\u001b[0;34m()\u001b[0m\n",
      "\u001b[0;31mKeyError\u001b[0m: u'entites'"
     ]
    }
   ],
   "source": [
    "kick_data[kick_data['entites']][['title']].head(20)"
   ]
  },
  {
   "cell_type": "code",
   "execution_count": null,
   "metadata": {
    "collapsed": false
   },
   "outputs": [],
   "source": [
    "#Extracting the nouns chunks from each of the campaings.\n",
    "\n",
    "nouns = []\n",
    "for cell in kick_data.pitch:\n",
    "    n_doc = nlp_toolkit(cell)\n",
    "    for np in n_doc.noun_chunks:\n",
    "        nouns.append(np)\n",
    "\n"
   ]
  },
  {
   "cell_type": "code",
   "execution_count": null,
   "metadata": {
    "collapsed": false
   },
   "outputs": [],
   "source": [
    "titles = ['title'].fillna('')\n",
    "\n",
    "from sklearn.feature_extraction.text import CountVectorizer\n",
    "\n",
    "vectorizer = CountVectorizer(max_features = 1000, \n",
    "                             ngram_range=(1, 2), \n",
    "                             stop_words='english',\n",
    "                             binary=True)\n",
    "\n",
    "# Use `fit` to learn the vocabulary of the titles\n",
    "vectorizer.fit(titles)\n",
    "\n",
    "# Use `tranform` to generate the sample X word matrix - one column per feature (word or n-grams)\n",
    "X = vectorizer.transform(titles)\n",
    "X"
   ]
  },
  {
   "cell_type": "code",
   "execution_count": null,
   "metadata": {
    "collapsed": true
   },
   "outputs": [],
   "source": []
  }
 ],
 "metadata": {
  "anaconda-cloud": {},
  "kernelspec": {
   "display_name": "Python [Root]",
   "language": "python",
   "name": "Python [Root]"
  },
  "language_info": {
   "codemirror_mode": {
    "name": "ipython",
    "version": 2
   },
   "file_extension": ".py",
   "mimetype": "text/x-python",
   "name": "python",
   "nbconvert_exporter": "python",
   "pygments_lexer": "ipython2",
   "version": "2.7.12"
  }
 },
 "nbformat": 4,
 "nbformat_minor": 0
}
